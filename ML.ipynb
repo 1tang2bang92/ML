{
  "nbformat": 4,
  "nbformat_minor": 0,
  "metadata": {
    "colab": {
      "name": "Untitled0.ipynb",
      "provenance": [],
      "authorship_tag": "ABX9TyNNdcOvWIIwYBfD3KUPB8Lg",
      "include_colab_link": true
    },
    "kernelspec": {
      "name": "python3",
      "display_name": "Python 3"
    }
  },
  "cells": [
    {
      "cell_type": "markdown",
      "metadata": {
        "id": "view-in-github",
        "colab_type": "text"
      },
      "source": [
        "<a href=\"https://colab.research.google.com/github/1tang2bang92/ML/blob/master/ML.ipynb\" target=\"_parent\"><img src=\"https://colab.research.google.com/assets/colab-badge.svg\" alt=\"Open In Colab\"/></a>"
      ]
    },
    {
      "cell_type": "code",
      "metadata": {
        "id": "n2cyhToQm-bS",
        "colab_type": "code",
        "colab": {}
      },
      "source": [
        "#impot part\n",
        "import cv2\n",
        "import tf\n",
        "from itertools import *"
      ],
      "execution_count": 0,
      "outputs": []
    }
  ]
}